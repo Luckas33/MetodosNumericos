{
 "cells": [
  {
   "cell_type": "markdown",
   "metadata": {},
   "source": [
    "Nome: Lucas de Oliveira Sobral\n",
    "Matrícula: 556944"
   ]
  },
  {
   "cell_type": "code",
   "execution_count": 6,
   "metadata": {},
   "outputs": [],
   "source": [
    "import math\n",
    "import numpy as np\n",
    "import matplotlib.pyplot as plt"
   ]
  },
  {
   "cell_type": "code",
   "execution_count": 9,
   "metadata": {},
   "outputs": [],
   "source": [
    "def bissecao(a,b,f,Tol,maxIter):\n",
    "    if(f(a)*f(b) >= 0):\n",
    "        return None\n",
    "    \n",
    "    #primeira iterção\n",
    "    \n",
    "    iter = 1\n",
    "    x_anterior = a\n",
    "    x_atual = (a+b)/2\n",
    "    \n",
    "    erro = np.abs((x_atual - x_anterior)/x_atual) *100\n",
    "    \n",
    "    if(f(x_atual) * f(a) < 0):\n",
    "        b = x_atual\n",
    "    else:\n",
    "        a = x_atual\n",
    "    \n",
    "    #outras iterações\n",
    "    \n",
    "    while(erro > Tol and iter < maxIter):\n",
    "        x_anterior = x_atual\n",
    "        \n",
    "        x_atual = ((a+b)/2)\n",
    "        \n",
    "        if(f(x_atual) * f(a) < 0):\n",
    "            b = x_atual\n",
    "        else:\n",
    "            a = x_atual\n",
    "    \n",
    "        erro = np.abs((x_atual - x_anterior)/x_atual) * 100\n",
    "\n",
    "        iter +=1\n",
    "    \n",
    "    \n",
    "    return x_atual , erro , iter"
   ]
  },
  {
   "cell_type": "code",
   "execution_count": 2,
   "metadata": {},
   "outputs": [],
   "source": [
    "def retaSecante(a,b,f,t):\n",
    "    return (a*f(b,t) - b*f(a,t))/(f(b,t) - f(a,t))\n",
    "\n",
    "def FalsaPosicao(a,b,f,t,Tol,maxIter):\n",
    "    if(f(a,t) * f(b,t) >= 0):\n",
    "        return None\n",
    "    \n",
    "    #primeira iterção\n",
    "\n",
    "    iter = 1\n",
    "    x_anterior = a\n",
    "    x_atual = retaSecante(a,b,f,t)\n",
    "    \n",
    "    erro = np.abs((x_atual - x_anterior)/x_atual) * 100\n",
    "    \n",
    "    if(f(x_atual,t) * f(a,t) < 0):\n",
    "        b = x_atual\n",
    "    else:\n",
    "        a = x_atual\n",
    "        \n",
    "    #outras iterações\n",
    "    \n",
    "    while(erro > Tol and iter < maxIter):\n",
    "        \n",
    "        x_anterior = x_atual\n",
    "        \n",
    "        x_atual = retaSecante(a,b,f,t)\n",
    "        \n",
    "        if(f(x_atual,t) * f(a,t) < 0):\n",
    "            b = x_atual\n",
    "        else:\n",
    "            a = x_atual\n",
    "    \n",
    "        erro = np.abs((x_atual - x_anterior)/x_atual) * 100\n",
    "\n",
    "        iter +=1\n",
    "        \n",
    "    return x_atual, erro, iter\n",
    "    "
   ]
  },
  {
   "cell_type": "markdown",
   "metadata": {},
   "source": [
    "Questão 1:"
   ]
  },
  {
   "cell_type": "code",
   "execution_count": 3,
   "metadata": {},
   "outputs": [],
   "source": [
    "def lambert(x,t):\n",
    "    return x*(np.exp(x)) - t"
   ]
  },
  {
   "cell_type": "code",
   "execution_count": 23,
   "metadata": {},
   "outputs": [
    {
     "name": "stdout",
     "output_type": "stream",
     "text": [
      "0.5671432892698609\n",
      "4.603668288158398e-07\n",
      "17\n"
     ]
    }
   ],
   "source": [
    "#a) t = 1\n",
    "x_aproximado , x_erro, x_iteracoes = FalsaPosicao(0,1,lambert,1,0.000001,100)\n",
    "print(x_aproximado)\n",
    "print(x_erro)\n",
    "print(x_iteracoes)"
   ]
  },
  {
   "cell_type": "code",
   "execution_count": 8,
   "metadata": {},
   "outputs": [
    {
     "name": "stdout",
     "output_type": "stream",
     "text": [
      "1.745498409721393\n",
      "9.999584166751802e-07\n",
      "20553\n"
     ]
    }
   ],
   "source": [
    "#b t = 10\n",
    "x_aproximado, x_erro, x_iteracoes = FalsaPosicao(0,10,lambert,10,0.000001,40000)\n",
    "print(x_aproximado)\n",
    "print(x_erro)\n",
    "print(x_iteracoes)"
   ]
  },
  {
   "cell_type": "markdown",
   "metadata": {},
   "source": [
    "Resposta:A letra \"a\" para t = 1 converge em 17 passos e a letra \"b\" não converge."
   ]
  },
  {
   "cell_type": "markdown",
   "metadata": {},
   "source": [
    "Questão 2:"
   ]
  },
  {
   "cell_type": "code",
   "execution_count": null,
   "metadata": {},
   "outputs": [],
   "source": [
    "def Vt(k,t,q):\n",
    "    return (k*t)/q"
   ]
  },
  {
   "cell_type": "code",
   "execution_count": null,
   "metadata": {},
   "outputs": [],
   "source": [
    "def Vd(Ir):\n",
    "    return "
   ]
  }
 ],
 "metadata": {
  "kernelspec": {
   "display_name": "Python 3",
   "language": "python",
   "name": "python3"
  },
  "language_info": {
   "codemirror_mode": {
    "name": "ipython",
    "version": 3
   },
   "file_extension": ".py",
   "mimetype": "text/x-python",
   "name": "python",
   "nbconvert_exporter": "python",
   "pygments_lexer": "ipython3",
   "version": "3.11.9"
  }
 },
 "nbformat": 4,
 "nbformat_minor": 4
}
