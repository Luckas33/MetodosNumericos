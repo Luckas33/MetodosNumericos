{
  "cells": [
    {
      "cell_type": "markdown",
      "metadata": {},
      "source": [
        "![UFC LOGO](../3-imagens/UFC.png)"
      ]
    },
    {
      "cell_type": "markdown",
      "metadata": {
        "id": "m4QIUPv6xFrV"
      },
      "source": [
        "# Universidade Federal do Ceará  \n",
        "## Departamento de Computação  \n",
        "\n",
        "---\n",
        "\n",
        "### Disciplina: **Métodos Numéricos**  \n",
        "**Professor:** João Paulo do Vale Madeiro  \n",
        "\n",
        "---\n",
        "\n",
        "### **Alunos:**\n",
        "- Lucas de Oliveira Sobral, 556944\n",
        "- Mateus Andrade Maia, 552593\n",
        "\n",
        "Link para vídeo de apresentação: https://www.youtube.com/watch?v=1vZVvYJtojI\n"
      ]
    },
    {
      "cell_type": "markdown",
      "metadata": {
        "id": "ITQ6yK54xpFE"
      },
      "source": [
        "# TRABALHO COMPUTACIONAL 1"
      ]
    },
    {
      "cell_type": "markdown",
      "metadata": {
        "id": "uG56heUhxxaL"
      },
      "source": [
        "----"
      ]
    },
    {
      "cell_type": "markdown",
      "metadata": {
        "id": "ks2JDHfFxwtC"
      },
      "source": [
        "## *Problema de Rede de Tubos*\n",
        "\n",
        "Um fluido é bombeado na rede de tubos mostrada na figura abaixo. No estado estacionário, os seguintes balanços de escoamento precisam ser satisfeitos:\n",
        "\\begin{align*}\n",
        "    Q_1 &= Q_2 + Q_3 \\\\\n",
        "    Q_3 &= Q_4 + Q_5 \\\\\n",
        "    Q_5 &= Q_6 + Q_7\n",
        "\\end{align*}\n",
        "onde $Q_i$ é o escoamento no tubo $i (m^3/s)$.\n",
        "\n",
        "Além disso, as quedas de pressão em torno dos três laços à direita devem ser nulas. A queda de pressão em cada seção de tubo circular pode ser calculada por:\n",
        "$$ \\Delta P = \\frac{16}{\\pi^2} \\cdot \\frac{f.L.\\rho}{2D^5}.Q^2 $$\n",
        "em que $\\Delta P$ é a queda de pressão (Pa), $f$ é o fator de atrito (adimensional), $L$ é o comprimento do tubo (m), $\\rho$ é a\n",
        "\n",
        " densidade do fluido $(kg/m^3)$ e $D$ é o diâmetro do tubo (m).\n"
      ]
    },
    {
      "cell_type": "markdown",
      "metadata": {},
      "source": [
        "![Rede de tubos](../3-imagens/redes%20de%20tubos.png)"
      ]
    },
    {
      "cell_type": "markdown",
      "metadata": {
        "id": "8_RlE5iY0J27"
      },
      "source": [
        "Escreva um programa que lhe permita calcular o escoamento em todas as seções de tubo, dado que $𝑸𝟏= \\frac{𝟏𝒎^𝟑}{𝒔},𝝆=𝟏,𝟐𝟑𝒌𝒈/𝒎^𝟑$. Todos os tubos têm $𝑫=𝟓𝟎𝟎𝒎𝒎$ e $f= 0,005$.  Os  comprimentos  dos  tubos  são $𝑳𝟑=𝑳𝟓=𝑳𝟖=𝑳𝟗=𝟐𝒎;𝑳𝟐=𝑳𝟒=𝑳𝟔=𝟒𝒎;𝑳𝟕=𝟖𝒎$."
      ]
    },
    {
      "cell_type": "markdown",
      "metadata": {
        "id": "IUqdJ1t__9mZ"
      },
      "source": [
        "Q1 = Q2 + Q3\n",
        "\n",
        "\n",
        "Q3 = Q4 + Q5\n",
        "\n",
        "\n",
        "Q5 = Q6 + Q7\n",
        "\n"
      ]
    },
    {
      "cell_type": "markdown",
      "metadata": {
        "id": "0FwSg_Gy7gHi"
      },
      "source": [
        "## Começando a Resolução do problema\n",
        "\n",
        "Primeiramente, para nós conseguirmos calcular todos os escoamentos de cada seção, vamos precisar encontrar diferentes equações para conseguir ter um sistema de equações a ser resolvido.  \n",
        "Para isso, vamos usar dois conceitos semelhantes aos de circuitos elétricos: a **Lei de Kirchhoff dos Nós** e a **Lei de Kirchhoff das Malhas**.\n",
        "\n",
        "---\n",
        "\n",
        "### 🔵 Lei de Kirchhoff dos Nós\n",
        "\n",
        "Usando a Lei de Kirchhoff dos Nós, podemos tirar 5 equações nos nós A, B, C, D, e E indicados na imagem abaixo.  \n",
        "Essa lei afirma que o fluxo de água que entra em um nó é o mesmo que sai dele:\n",
        "\n",
        "- Para o nó A:  \n",
        "  Q<sub>1</sub> = Q<sub>2</sub> + Q<sub>3</sub>\n",
        "\n",
        "- Para o nó B:  \n",
        "  Q<sub>3</sub> = Q<sub>4</sub> + Q<sub>5</sub>\n",
        "\n",
        "- Para o nó C:  \n",
        "  Q<sub>5</sub> = Q<sub>6</sub> + Q<sub>7</sub>\n",
        "\n",
        "- Para o nó D: \\\\\n",
        "  Q<sub>8</sub> = Q<sub>6</sub> + Q<sub>7</sub>\n",
        "\n",
        "- Para o nó E:  \n",
        "  Q<sub>9</sub> = Q<sub>4</sub> + Q<sub>8</sub>\n",
        "\n",
        "---\n",
        "\n",
        "### 🔴 Lei de Kirchhoff das Malhas\n",
        "\n",
        "Para esse caso, a Lei de Kirchhoff das Malhas será usada para o cálculo da variação de pressão em cada malha do sistema.  \n",
        "Ela afirma que a soma das variações de pressão ao longo de uma malha fechada deve ser igual a zero:\n",
        "\n",
        "- Para a Malha 1:  \n",
        "  $\\Delta$P<sub>3</sub> + $\\Delta$P<sub>4</sub> + $\\Delta$P<sub>9</sub> - $\\Delta$P<sub>2</sub> = 0\n",
        "\n",
        "- Para a Malha 2:  \n",
        "  $\\Delta$P<sub>5</sub> + $\\Delta$P<sub>6</sub> + $\\Delta$P<sub>8</sub> - $\\Delta$P<sub>4</sub> = 0\n",
        "\n",
        "- Para a Malha 3:  \n",
        "  $\\Delta$P<sub>7</sub> - $\\Delta$P<sub>6</sub> = 0\n",
        "\n",
        "Em que $\\Delta$P pode ser escrito em função da vazão Q através da seguinte formula:\n",
        "\n",
        "$$\n",
        "\\Delta P \\;=\\; \\frac{16}{\\pi^{2}} \\;\\cdot\\; \\frac{F\\,L\\,p}{2\\,D^{5}} \\;\\cdot\\; Q^{2}\n",
        "$$\n",
        "\n",
        "Com isso, nós obtemos todas as 8 equações para encontrar as 8 variáveis de vazão Q<sub>2</sub> a Q<sub>9</sub>. O Q<sub>10</sub> não foi fornecida a informação do comprimento do tubo, tornando inviavel o cálculo\n"
      ]
    },
    {
      "cell_type": "markdown",
      "metadata": {},
      "source": [
        "![Circuito de tubos](../3-imagens/circuito_tubos.png)"
      ]
    },
    {
      "cell_type": "markdown",
      "metadata": {
        "id": "PnrzHkWmwj7L"
      },
      "source": [
        "# Importe das bibliotecas"
      ]
    },
    {
      "cell_type": "markdown",
      "metadata": {
        "id": "m5uUeDG1A7Ha"
      },
      "source": [
        "Primeiramente, para começar a resolução do problema, vamos importar as bibliotecas numpy para alguns cálculos e matplotlib para criação de gráficos"
      ]
    },
    {
      "cell_type": "code",
      "execution_count": 3,
      "metadata": {
        "id": "zlADx74tviR4"
      },
      "outputs": [],
      "source": [
        "import numpy as np\n",
        "import matplotlib.pyplot as plt"
      ]
    },
    {
      "cell_type": "markdown",
      "metadata": {
        "id": "pPQRnzrgwots"
      },
      "source": [
        "# Função para calcular a variação da pressão"
      ]
    },
    {
      "cell_type": "code",
      "execution_count": 4,
      "metadata": {
        "id": "AXe0uLc0vjgB"
      },
      "outputs": [],
      "source": [
        "def calcular_delta_p(Q, L, D, f, rho):\n",
        "    return (16 / (np.pi**2)) * (f * L * rho) / (2 * D**5) * Q**2"
      ]
    },
    {
      "cell_type": "markdown",
      "metadata": {
        "id": "HAxMcmCrw1C2"
      },
      "source": [
        "# Implementação do método de Gauss"
      ]
    },
    {
      "cell_type": "code",
      "execution_count": 5,
      "metadata": {
        "id": "XnXOGMYgvpT_"
      },
      "outputs": [],
      "source": [
        "def gauss_elimination(A, b):\n",
        "    \"\"\"\n",
        "    Resolve sistema Ax = b usando eliminação de Gauss com pivotamento parcial\n",
        "    \"\"\"\n",
        "    n = len(b)\n",
        "    Ab = np.column_stack([A.copy(), b.copy()])\n",
        "\n",
        "    for k in range(n):\n",
        "        max_row = k\n",
        "        for i in range(k+1, n):\n",
        "            if abs(Ab[i, k]) > abs(Ab[max_row, k]):\n",
        "                max_row = i\n",
        "\n",
        "        if max_row != k:\n",
        "            Ab[[k, max_row]] = Ab[[max_row, k]]\n",
        "\n",
        "        if abs(Ab[k, k]) < 1e-14:\n",
        "            raise ValueError(\"Sistema singular ou mal condicionado\")\n",
        "\n",
        "        for i in range(k+1, n):\n",
        "            factor = Ab[i, k] / Ab[k, k]\n",
        "            for j in range(k, n+1):\n",
        "                Ab[i, j] -= factor * Ab[k, j]\n",
        "\n",
        "    x = np.zeros(n)\n",
        "    for i in range(n-1, -1, -1):\n",
        "        x[i] = Ab[i, n]\n",
        "        for j in range(i+1, n):\n",
        "            x[i] -= Ab[i, j] * x[j]\n",
        "        x[i] /= Ab[i, i]\n",
        "\n",
        "    return x"
      ]
    },
    {
      "cell_type": "markdown",
      "metadata": {
        "id": "0ZiWZh5yw7Xc"
      },
      "source": [
        "# Implementação da Norma Eucliadiana"
      ]
    },
    {
      "cell_type": "code",
      "execution_count": 6,
      "metadata": {
        "id": "xv1nEDY8v7Xg"
      },
      "outputs": [],
      "source": [
        "def norma_euclidiana(vetor):\n",
        "    \"\"\"Calcula a norma euclidiana de um vetor\"\"\"\n",
        "    soma = 0.0\n",
        "    for elemento in vetor:\n",
        "        soma += elemento * elemento\n",
        "    return soma ** 0.5"
      ]
    },
    {
      "cell_type": "markdown",
      "metadata": {
        "id": "YoZ4Igp_xAmD"
      },
      "source": [
        "# Definição do Sistema de Equações"
      ]
    },
    {
      "cell_type": "code",
      "execution_count": 7,
      "metadata": {
        "id": "F1ANLf5WwB9P"
      },
      "outputs": [],
      "source": [
        "def sistema_equacoes(vars):\n",
        "    \"\"\"\n",
        "    Sistema de equações não-lineares\n",
        "    Variáveis: [Q2, Q3, Q4, Q5, Q6, Q7, Q8, Q9]\n",
        "    Q1 = 1 m³/s (dado)\n",
        "    \"\"\"\n",
        "    Q2, Q3, Q4, Q5, Q6, Q7, Q8, Q9 = vars\n",
        "    Q1 = 1.0\n",
        "\n",
        "\n",
        "    rho = 1.23  # kg/m³\n",
        "    D = 0.5     # m (500 mm)\n",
        "    f = 0.005\n",
        "\n",
        "\n",
        "    L2, L4, L6 = 4, 4, 4  # m\n",
        "    L3, L5, L8, L9 = 2, 2, 2, 2  # m\n",
        "    L7 = 8  # m\n",
        "\n",
        "    # Equações de balanço de massa nos nós\n",
        "    eq1 = Q1 - Q2 - Q3           # Nó superior: Q1 = Q2 + Q3\n",
        "    eq2 = Q3 - Q4 - Q5           # Nó central esquerdo: Q3 = Q4 + Q5\n",
        "    eq3 = Q5 - Q6 - Q7           # Nó central direito: Q5 = Q6 + Q7\n",
        "    eq4 = Q8 - Q6 - Q7           # Nó inferior esquerdo: Q8 = Q6 + Q7\n",
        "    eq5 = Q9 - Q4 - Q8           # Nó inferior direito: Q9 = Q4 + Q8\n",
        "\n",
        "    # Equações de balanço de pressão nos laços (soma das quedas = 0)\n",
        "    deltaP2 = calcular_delta_p(Q2, L2, D, f, rho)\n",
        "    deltaP3 = calcular_delta_p(Q3, L3, D, f, rho)\n",
        "    deltaP4 = calcular_delta_p(Q4, L4, D, f, rho)\n",
        "    deltaP5 = calcular_delta_p(Q5, L5, D, f, rho)\n",
        "    deltaP6 = calcular_delta_p(Q6, L6, D, f, rho)\n",
        "    deltaP7 = calcular_delta_p(Q7, L7, D, f, rho)\n",
        "    deltaP8 = calcular_delta_p(Q8, L8, D, f, rho)\n",
        "    deltaP9 = calcular_delta_p(Q9, L9, D, f, rho)\n",
        "    eq6 = deltaP3 + deltaP4 + deltaP9 - deltaP2\n",
        "    eq7 = deltaP5 + deltaP6 + deltaP8 - deltaP4\n",
        "    eq8 = deltaP7 - deltaP6\n",
        "\n",
        "    return np.array([eq1, eq2, eq3, eq4, eq5, eq6, eq7, eq8])"
      ]
    },
    {
      "cell_type": "markdown",
      "metadata": {
        "id": "VPkF4C4RxRMY"
      },
      "source": [
        "# Cálculo do Jacobiano"
      ]
    },
    {
      "cell_type": "code",
      "execution_count": 9,
      "metadata": {
        "id": "jQHVE7GCwIeb"
      },
      "outputs": [],
      "source": [
        "def jacobiano(vars):\n",
        "    \"\"\"Calcula o jacobiano do sistema\"\"\"\n",
        "    Q2, Q3, Q4, Q5, Q6, Q7, Q8, Q9 = vars\n",
        "\n",
        "    rho = 1.23\n",
        "    D = 0.5\n",
        "    f = 0.005\n",
        "    L2, L4, L6 = 4, 4, 4\n",
        "    L3, L5, L8, L9 = 2, 2, 2, 2\n",
        "    L7 = 8\n",
        "\n",
        "    k = (16 / (np.pi**2)) * (f * rho) / (2 * D**5)\n",
        "\n",
        "    jac = np.zeros((8, 8))\n",
        "\n",
        "    # Derivadas das equações de balanço de massa\n",
        "    jac[0, :] = [-1, -1, 0, 0, 0, 0, 0, 0]    # eq1: -Q2 - Q3\n",
        "    jac[1, :] = [0, 1, -1, -1, 0, 0, 0, 0]    # eq2: Q3 - Q4 - Q5\n",
        "    jac[2, :] = [0, 0, 0, 1, -1, -1, 0, 0]    # eq3: Q5 - Q6 - Q7\n",
        "    jac[3, :] = [0, 0, 0, 0, -1, -1, 1, 0]    # eq4: Q2 + Q4 - Q8\n",
        "    jac[4, :] = [0, 0, -1, 0, 0, 0, -1, 1]    # eq5: Q6 + Q7 - Q9\n",
        "\n",
        "    # Derivadas das equações de pressão\n",
        "    # eq6: ΔP3 + ΔP4 + ΔP9 - ΔP2 = 0\n",
        "    jac[5, 1] = 2 * k * L3 * Q3   # d/dQ3\n",
        "    jac[5, 2] = 2 * k * L4 * Q4   # d/dQ4\n",
        "    jac[5, 7] = 2 * k * L9 * Q9   # d/dQ9\n",
        "    jac[5, 0] = -2 * k * L2 * Q2  # d/dQ2\n",
        "\n",
        "    # eq7: ΔP5 + ΔP6 + ΔP8 - ΔP4 = 0\n",
        "    jac[6, 3] = 2 * k * L5 * Q5   # d/dQ5\n",
        "    jac[6, 4] = 2 * k * L6 * Q6   # d/dQ6\n",
        "    jac[6, 6] = 2 * k * L8 * Q8   # d/dQ8\n",
        "    jac[6, 2] = -2 * k * L4 * Q4  # d/dQ4\n",
        "\n",
        "    # eq8: ΔP7 - ΔP6 = 0\n",
        "    jac[7, 5] = 2 * k * L7 * Q7   # d/dQ7\n",
        "    jac[7, 4] = -2 * k * L6 * Q6  # d/dQ6\n",
        "\n",
        "    return jac"
      ]
    },
    {
      "cell_type": "markdown",
      "metadata": {
        "id": "TMp5E0n0xVMo"
      },
      "source": [
        "# Implementação de Newton-Raphson para Sistemas"
      ]
    },
    {
      "cell_type": "code",
      "execution_count": 10,
      "metadata": {
        "id": "KLCyv2UjwRGZ"
      },
      "outputs": [],
      "source": [
        "def newton_raphson(x0, tol, max_iter):\n",
        "    \"\"\"Método de Newton-Raphson para sistemas não-lineares\"\"\"\n",
        "    x = x0.copy()\n",
        "\n",
        "    print(\"Iteração | Erro\")\n",
        "    print(\"-\" * 20)\n",
        "\n",
        "    for i in range(max_iter):\n",
        "        f_x = sistema_equacoes(x)\n",
        "        jac_x = jacobiano(x)\n",
        "\n",
        "        try:\n",
        "            delta_x = gauss_elimination(jac_x, -f_x)\n",
        "        except ValueError as e:\n",
        "            print(f\"Erro: {e}\")\n",
        "            return None\n",
        "\n",
        "        x_novo = x + delta_x\n",
        "\n",
        "        erro = norma_euclidiana(delta_x)\n",
        "        print(f\"{i+1:8d} | {erro:.2e}\")\n",
        "\n",
        "        if erro < tol:\n",
        "            print(f\"\\nConvergência alcançada em {i+1} iterações\")\n",
        "            return x_novo\n",
        "\n",
        "        x = x_novo\n",
        "\n",
        "    print(\"Número máximo de iterações atingido\")\n",
        "    return x"
      ]
    },
    {
      "cell_type": "markdown",
      "metadata": {
        "id": "B0RamiK_xaxX"
      },
      "source": [
        "# Função Principal"
      ]
    },
    {
      "cell_type": "code",
      "execution_count": 11,
      "metadata": {
        "colab": {
          "base_uri": "https://localhost:8080/",
          "height": 1000
        },
        "id": "r_iPAQybwXC-",
        "outputId": "cc5df3cc-f8a1-46b4-941c-4f0ddff4665a"
      },
      "outputs": [
        {
          "name": "stdout",
          "output_type": "stream",
          "text": [
            "Chute inicial:\n",
            "Q2=0.400, Q3=0.600, Q4=0.200, Q5=0.400\n",
            "Q6=0.200, Q7=0.200, Q8=0.600, Q9=0.400\n",
            "\n",
            "Iteração | Erro\n",
            "--------------------\n",
            "       1 | 4.02e-01\n",
            "       2 | 1.07e-01\n",
            "       3 | 5.99e-03\n",
            "       4 | 5.98e-05\n",
            "       5 | 8.30e-09\n",
            "       6 | 1.70e-16\n",
            "\n",
            "Convergência alcançada em 6 iterações\n",
            "\n",
            "SOLUÇÃO ENCONTRADA:\n",
            "--------------------\n",
            "Q1 = 1.000000 m³/s (dado)\n",
            "Q2 = 0.531610 m³/s\n",
            "Q3 = 0.468390 m³/s\n",
            "Q4 = 0.251436 m³/s\n",
            "Q5 = 0.216953 m³/s\n",
            "Q6 = 0.127088 m³/s\n",
            "Q7 = 0.089865 m³/s\n",
            "Q8 = 0.216953 m³/s\n",
            "Q9 = 0.468390 m³/s\n",
            "\n",
            "VERIFICAÇÃO DOS BALANÇOS DE MASSA:\n",
            "--------------------------------\n",
            "Nó superior:        Q1 - Q2 - Q3 = 0.00e+00\n",
            "Nó central esq:     Q3 - Q4 - Q5 = -5.55e-17\n",
            "Nó central dir:     Q5 - Q6 - Q7 = 1.39e-17\n",
            "Nó inferior esq:    Q8 - Q6 - Q7 = 1.39e-17\n",
            "Nó inferior dir:    Q9 - Q8 - Q4 = -5.55e-17\n"
          ]
        },
        {
          "data": {
            "image/png": "[encoded data removed]",
            "text/plain": [
              "<Figure size 1200x600 with 1 Axes>"
            ]
          },
          "metadata": {},
          "output_type": "display_data"
        },
        {
          "name": "stdout",
          "output_type": "stream",
          "text": [
            "\n",
            "TABELA RESUMO:\n",
            "------------------------------\n",
            "Tubo | Vazão (m³/s) | Comprimento (m)\n",
            "------------------------------\n",
            "Q1   |    1.000000 | -            \n",
            "Q2   |    0.531610 |             4\n",
            "Q3   |    0.468390 |             2\n",
            "Q4   |    0.251436 |             4\n",
            "Q5   |    0.216953 |             2\n",
            "Q6   |    0.127088 |             4\n",
            "Q7   |    0.089865 |             8\n",
            "Q8   |    0.216953 |             2\n",
            "Q9   |    0.468390 |             2\n"
          ]
        }
      ],
      "source": [
        "def main():\n",
        "    x0 = np.array([0.4, 0.6, 0.2, 0.4, 0.2, 0.2, 0.6, 0.4])\n",
        "    print(f\"Chute inicial:\")\n",
        "    print(f\"Q2={x0[0]:.3f}, Q3={x0[1]:.3f}, Q4={x0[2]:.3f}, Q5={x0[3]:.3f}\")\n",
        "    print(f\"Q6={x0[4]:.3f}, Q7={x0[5]:.3f}, Q8={x0[6]:.3f}, Q9={x0[7]:.3f}\")\n",
        "    print()\n",
        "\n",
        "    solucao = newton_raphson(x0,1e-15,50)\n",
        "\n",
        "    if solucao is not None:\n",
        "        Q2, Q3, Q4, Q5, Q6, Q7, Q8, Q9 = solucao\n",
        "        Q1 = 1.0\n",
        "\n",
        "        print(\"\\nSOLUÇÃO ENCONTRADA:\")\n",
        "        print(\"-\" * 20)\n",
        "        print(f\"Q1 = {Q1:.6f} m³/s (dado)\")\n",
        "        print(f\"Q2 = {Q2:.6f} m³/s\")\n",
        "        print(f\"Q3 = {Q3:.6f} m³/s\")\n",
        "        print(f\"Q4 = {Q4:.6f} m³/s\")\n",
        "        print(f\"Q5 = {Q5:.6f} m³/s\")\n",
        "        print(f\"Q6 = {Q6:.6f} m³/s\")\n",
        "        print(f\"Q7 = {Q7:.6f} m³/s\")\n",
        "        print(f\"Q8 = {Q8:.6f} m³/s\")\n",
        "        print(f\"Q9 = {Q9:.6f} m³/s\")\n",
        "\n",
        "        print(f\"\\nVERIFICAÇÃO DOS BALANÇOS DE MASSA:\")\n",
        "        print(\"-\" * 32)\n",
        "        print(f\"Nó superior:        Q1 - Q2 - Q3 = {Q1 - Q2 - Q3:.2e}\")\n",
        "        print(f\"Nó central esq:     Q3 - Q4 - Q5 = {Q3 - Q4 - Q5:.2e}\")\n",
        "        print(f\"Nó central dir:     Q5 - Q6 - Q7 = {Q5 - Q6 - Q7:.2e}\")\n",
        "        print(f\"Nó inferior esq:    Q8 - Q6 - Q7 = {Q8 - Q6 - Q7:.2e}\")\n",
        "        print(f\"Nó inferior dir:    Q9 - Q8 - Q4 = {Q9 - Q8 - Q4:.2e}\")\n",
        "\n",
        "\n",
        "        # Gráfico\n",
        "        plt.figure(figsize=(12, 6))\n",
        "        vazoes = [Q1, Q2, Q3, Q4, Q5, Q6, Q7, Q8, Q9]\n",
        "        tubos = ['Q1', 'Q2', 'Q3', 'Q4', 'Q5', 'Q6', 'Q7', 'Q8', 'Q9']\n",
        "\n",
        "        cores = ['red'] + ['skyblue']*8\n",
        "        barras = plt.bar(tubos, vazoes, color=cores)\n",
        "        plt.ylabel('Vazão (m³/s)')\n",
        "        plt.xlabel('Tubos')\n",
        "        plt.title('Distribuição de Vazões na Rede de Tubos (Q1 a Q9)\\nImplementação Manual - Newton-Raphson')\n",
        "        plt.grid(True, alpha=0.3)\n",
        "\n",
        "        for i, v in enumerate(vazoes):\n",
        "            plt.text(i, v + 0.01, f'{v:.3f}', ha='center', va='bottom')\n",
        "\n",
        "        plt.tight_layout()\n",
        "        plt.show()\n",
        "\n",
        "        # Resumo\n",
        "        print(f\"\\nTABELA RESUMO:\")\n",
        "        print(\"-\" * 30)\n",
        "        print(\"Tubo | Vazão (m³/s) | Comprimento (m)\")\n",
        "        print(\"-\" * 30)\n",
        "        comprimentos = ['-', 4, 2, 4, 2, 4, 8, 2, 2]\n",
        "        for i, (tubo, vazao, comp) in enumerate(zip(tubos, vazoes, comprimentos)):\n",
        "            if i == 0:\n",
        "                print(f\"{tubo:4s} | {vazao:11.6f} | {comp:13s}\")\n",
        "            else:\n",
        "                print(f\"{tubo:4s} | {vazao:11.6f} | {comp:13d}\")\n",
        "\n",
        "if __name__ == \"__main__\":\n",
        "    main()"
      ]
    }
  ],
  "metadata": {
    "colab": {
      "include_colab_link": true,
      "provenance": []
    },
    "kernelspec": {
      "display_name": "base",
      "language": "python",
      "name": "python3"
    },
    "language_info": {
      "codemirror_mode": {
        "name": "ipython",
        "version": 3
      },
      "file_extension": ".py",
      "mimetype": "text/x-python",
      "name": "python",
      "nbconvert_exporter": "python",
      "pygments_lexer": "ipython3",
      "version": "3.12.7"
    }
  },
  "nbformat": 4,
  "nbformat_minor": 0
}
